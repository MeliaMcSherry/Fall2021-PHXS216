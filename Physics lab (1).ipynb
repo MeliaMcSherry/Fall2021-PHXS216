{
 "cells": [
  {
   "cell_type": "code",
   "execution_count": 23,
   "id": "9e822bfe",
   "metadata": {},
   "outputs": [
    {
     "name": "stdout",
     "output_type": "stream",
     "text": [
      "0.01414213562373095\n",
      "0.0006994203868586331\n",
      "0.17950549357115014\n",
      "0.17950549357115014\n"
     ]
    }
   ],
   "source": [
    "import numpy as np\n",
    "\n",
    "def rule3 (da,db):\n",
    "    dQ = np.sqrt(da**2+db**2)\n",
    "    return dQ\n",
    "\n",
    "d1=1.2\n",
    "d2=1.3\n",
    "errd1=0.01\n",
    "errd2=0.01\n",
    "errdtotal= rule3(errd1,errd2)\n",
    "print (errdtotal)\n",
    "\n",
    "def rule1 (c,da):\n",
    "    dQ=c*da\n",
    "    return dQ\n",
    "\n",
    "def rule2 (c,m,a,da):\n",
    "    dQ = (c*m*a**(m-1))*da\n",
    "    return dQ\n",
    "\n",
    "def rule4(m,a,da,n,b,db,o,dc,c):\n",
    "    dQ = (np.sqrt((m*(da/a)**2+n*(db/b)**2+o*(dc/c)**2)))\n",
    "    return dQ\n",
    "m=-0.5\n",
    "a=0.97\n",
    "da=0.0005\n",
    "n=1\n",
    "b=1.57\n",
    "db=0.0005\n",
    "o=0.5\n",
    "c=9.8\n",
    "dc=0.01\n",
    "errdtotal= rule4(m,a,da,n,b,db,o,dc,c)\n",
    "print (errdtotal)\n",
    "\n",
    "#the calculated lab error was 0.00065, and the coded lab error was 0.0006994203868586331.\n",
    "\n",
    "def mean(x):\n",
    "    SD=(np.std(x))\n",
    "    return SD\n",
    "x= (1.1, 1.3, 1.4, 0.9, 0.95, 1.05)\n",
    "mn=mean(x)\n",
    "print (mn)\n",
    "\n",
    "def dmean(x):\n",
    "    D=(np.std(x))\n",
    "    return D\n",
    "x= (1.1, 1.3, 1.4, 0.9, 0.95, 1.05)\n",
    "DM=dmean(x)\n",
    "print (DM)\n",
    "\n",
    "#the average of the numbers is 0.17950549357115014, and the error of the average is 0.17950549357115014.\n",
    "\n",
    "#dQ = np.sqrt(da**2+db**2)\n",
    "#dQ = (np.sqrt((m*(da/a)**2+n*(db/b)**2+o*(dc/c)**2)))\n"
   ]
  },
  {
   "cell_type": "code",
   "execution_count": null,
   "id": "c07493cd",
   "metadata": {},
   "outputs": [],
   "source": []
  }
 ],
 "metadata": {
  "kernelspec": {
   "display_name": "Python 3",
   "language": "python",
   "name": "python3"
  },
  "language_info": {
   "codemirror_mode": {
    "name": "ipython",
    "version": 3
   },
   "file_extension": ".py",
   "mimetype": "text/x-python",
   "name": "python",
   "nbconvert_exporter": "python",
   "pygments_lexer": "ipython3",
   "version": "3.8.8"
  }
 },
 "nbformat": 4,
 "nbformat_minor": 5
}
